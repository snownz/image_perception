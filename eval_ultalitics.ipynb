{
 "cells": [
  {
   "cell_type": "code",
   "execution_count": 1,
   "metadata": {},
   "outputs": [],
   "source": [
    "import torch.nn.functional as F\n",
    "import matplotlib.pyplot as plt\n",
    "import numpy as np\n",
    "\n",
    "import torch\n",
    "import random\n",
    "\n",
    "import numpy as np\n",
    "from torch import nn\n",
    "import torch.nn.functional as F"
   ]
  },
  {
   "cell_type": "code",
   "execution_count": 2,
   "metadata": {},
   "outputs": [],
   "source": [
    "int_to_label = {\n",
    "    0: \"non-object\",\n",
    "    1: \"person\",\n",
    "    2: \"birds\",\n",
    "    3: \"parking meter\",\n",
    "    4: \"stop sign\",\n",
    "    5: \"street sign\",\n",
    "    6: \"fire hydrant\",\n",
    "    7: \"traffic light\",\n",
    "    8: \"motorcycle\",\n",
    "    9: \"bicycle\",\n",
    "    10: \"LMVs\",\n",
    "    11: \"HMVs\",\n",
    "    12: \"animals\",\n",
    "    13: \"poles\",\n",
    "    14: \"barricades\",\n",
    "    15: \"traffic cones\",\n",
    "    16: \"mailboxes\",\n",
    "    17: \"stones\",\n",
    "    18: \"small walls\",\n",
    "    19: \"bins\",\n",
    "    20: \"furniture\",\n",
    "    21: \"pot plant\",\n",
    "    22: \"sign boards\",\n",
    "    23: \"boxes\",\n",
    "    24: \"trees\",\n",
    "}\n",
    "\n",
    "# Generate 24 distinct colors\n",
    "int_to_color = {i: (random.randint(0, 255), random.randint(0, 255), random.randint(0, 255)) for i in range(25)}"
   ]
  },
  {
   "cell_type": "code",
   "execution_count": 3,
   "metadata": {},
   "outputs": [],
   "source": [
    "from ultralytics import RTDETR\n",
    "model = RTDETR('yolo/runs/train/rtdetr_custom_4/weights/best.pt')\n",
    "torch.save( model.state_dict, 'models/pre_trained/rtdetr-c.pth' )"
   ]
  },
  {
   "cell_type": "markdown",
   "metadata": {},
   "source": [
    "## Hooks"
   ]
  },
  {
   "cell_type": "code",
   "execution_count": 4,
   "metadata": {},
   "outputs": [
    {
     "data": {
      "text/plain": [
       "<torch.utils.hooks.RemovableHandle at 0x7fde95eac2e0>"
      ]
     },
     "execution_count": 4,
     "metadata": {},
     "output_type": "execute_result"
    }
   ],
   "source": [
    "# Hook variables\n",
    "enc_score_head_outputs = None\n",
    "encoder_outputs = None\n",
    "\n",
    "# Hook functions\n",
    "def hook_fn(module, input, output):\n",
    "    global enc_score_head_outputs\n",
    "    enc_score_head_outputs = ( input, output )\n",
    "\n",
    "def hook_fn_encoder(module, input, output):\n",
    "    global encoder_outputs\n",
    "    encoder_outputs = ( input, output )\n",
    "\n",
    "# Register the hook\n",
    "model.model.model[32].decoder.register_forward_hook(hook_fn)\n",
    "model.model.model[31].register_forward_hook(hook_fn_encoder)"
   ]
  },
  {
   "cell_type": "code",
   "execution_count": 5,
   "metadata": {},
   "outputs": [],
   "source": [
    "img_name = 'test_images/8.png'\n",
    "import cv2\n",
    "image = cv2.imread( img_name )\n",
    "image = cv2.cvtColor( image, cv2.COLOR_BGR2RGB )\n",
    "torch_image = torch.from_numpy( image ).permute( 2, 0, 1 ).float() / 255.0"
   ]
  },
  {
   "cell_type": "code",
   "execution_count": 6,
   "metadata": {},
   "outputs": [
    {
     "name": "stdout",
     "output_type": "stream",
     "text": [
      "\n",
      "image 1/1 /home/lucas/capstone/test_images/8.png: 640x640 1 Person, 1 Street Sign, 4 Traffic Lights, 9 LMVss, 6 Poless, 2 Binss, 3 Sign Boardss, 1 Trees, 64.6ms\n",
      "Speed: 2.1ms preprocess, 64.6ms inference, 2.9ms postprocess per image at shape (1, 3, 640, 640)\n"
     ]
    }
   ],
   "source": [
    "r = model( img_name )"
   ]
  },
  {
   "cell_type": "code",
   "execution_count": 7,
   "metadata": {},
   "outputs": [
    {
     "data": {
      "image/png": "[encoded data removed]",
      "text/plain": [
       "<Figure size 640x480 with 2 Axes>"
      ]
     },
     "metadata": {},
     "output_type": "display_data"
    }
   ],
   "source": [
    "img = enc_score_head_outputs[0][0][0,:289].reshape( 17, 17, 256 )\n",
    "idx = 0\n",
    "# plot the heatmap\n",
    "plt.imshow( img[:,:,idx].cpu().detach().numpy(), cmap = 'jet' )\n",
    "plt.axis( 'off' )\n",
    "plt.colorbar()\n",
    "plt.title( \"Encoder Output\" )\n",
    "plt.show()"
   ]
  },
  {
   "cell_type": "code",
   "execution_count": null,
   "metadata": {},
   "outputs": [],
   "source": [
    "f_80_80 = enc_score_head_outputs[1][0][:80*80].reshape( 80, 80, 256 )\n",
    "f_40_40 = enc_score_head_outputs[1][0][80*80:80*80+40*40].reshape( 40, 40, 256 )\n",
    "f_20_20 = enc_score_head_outputs[1][0][80*80+40*40:80*80+40*40+20*20].reshape( 20, 20, 256 )\n",
    "f_80_80.min(), f_80_80.max(), f_40_40.min(), f_40_40.max(), f_20_20.min(), f_20_20.max()"
   ]
  },
  {
   "cell_type": "code",
   "execution_count": null,
   "metadata": {},
   "outputs": [],
   "source": [
    "idx = 0\n",
    "# plot the heatmap\n",
    "plt.imshow( f_80_80[:,:,idx].cpu().detach().numpy(), cmap = 'jet' )\n",
    "plt.axis( 'off' )\n",
    "plt.colorbar()\n",
    "plt.title( \"Encoder Output\" )\n",
    "plt.show()"
   ]
  },
  {
   "cell_type": "code",
   "execution_count": null,
   "metadata": {},
   "outputs": [],
   "source": [
    "idx = 0\n",
    "# plot the heatmap\n",
    "plt.imshow( f_40_40[:,:,idx].cpu().detach().numpy(), cmap = 'jet' )\n",
    "plt.axis( 'off' )\n",
    "plt.colorbar()\n",
    "plt.title( \"Encoder Output\" )\n",
    "plt.show()"
   ]
  },
  {
   "cell_type": "code",
   "execution_count": null,
   "metadata": {},
   "outputs": [],
   "source": [
    "idx = 0\n",
    "# plot the heatmap\n",
    "plt.imshow( f_20_20[:,:,idx].cpu().detach().numpy(), cmap = 'jet' )\n",
    "plt.axis( 'off' )\n",
    "plt.colorbar()\n",
    "plt.title( \"Encoder Output\" )\n",
    "plt.show()"
   ]
  },
  {
   "cell_type": "code",
   "execution_count": null,
   "metadata": {},
   "outputs": [],
   "source": [
    "print( encoder_outputs[0][0].shape )\n",
    "idx = 0\n",
    "img = encoder_outputs[0][0][0][idx]\n",
    "\n",
    "# plot the heatmap\n",
    "plt.imshow( img.cpu().detach().numpy(), cmap = 'jet' )\n",
    "plt.axis( 'off' )\n",
    "plt.colorbar()\n",
    "plt.title( \"Encoder Output\" )\n",
    "plt.show()"
   ]
  },
  {
   "cell_type": "code",
   "execution_count": null,
   "metadata": {},
   "outputs": [],
   "source": [
    "print( encoder_outputs[1][0].shape )\n",
    "idx = 0\n",
    "img = encoder_outputs[1][0][idx]\n",
    "\n",
    "# plot the heatmap\n",
    "plt.imshow( img.cpu().detach().numpy(), cmap = 'jet' )\n",
    "plt.axis( 'off' )\n",
    "plt.colorbar()\n",
    "plt.title( \"Encoder Output\" )\n",
    "plt.show()"
   ]
  },
  {
   "cell_type": "code",
   "execution_count": null,
   "metadata": {},
   "outputs": [],
   "source": [
    "img.min(), img.max()"
   ]
  },
  {
   "cell_type": "code",
   "execution_count": null,
   "metadata": {},
   "outputs": [],
   "source": [
    "im_with_boxes = r[0].plot()\n",
    "\n",
    "plt.figure(figsize=(15, 15))\n",
    "plt.imshow(im_with_boxes)\n",
    "plt.axis('off')\n",
    "plt.show()"
   ]
  },
  {
   "cell_type": "code",
   "execution_count": null,
   "metadata": {},
   "outputs": [],
   "source": [
    "# shapes = [(80, 80), (40, 40), (20, 20)]\n",
    "\n",
    "# # Get the outputs from the hook\n",
    "# enc_outputs_scores = enc_score_head_outputs[0].to('cpu')  # [bs, h*w, num_classes]\n",
    "\n",
    "# # Get shape information\n",
    "# bs, hw_total, num_classes = enc_outputs_scores.shape\n",
    "\n",
    "# # Apply softmax to the scores\n",
    "# enc_outputs_scores = F.softmax(enc_outputs_scores, dim=-1)\n",
    "\n",
    "# # Get the max scores and labels\n",
    "# scores, pred_label = enc_outputs_scores.max(-1)\n",
    "\n",
    "# # Mask out non-object scores (label=0)\n",
    "# masked_scores = scores.clone()\n",
    "# masked_scores = torch.where(pred_label == 0, masked_scores, 10*masked_scores)\n",
    "\n",
    "# # get top-k tokens and values from the all 3 feature maps\n",
    "# topk_values, topk_indices = torch.topk( masked_scores.view( bs, -1 ), 300, dim = 1 )\n",
    "# topk_indices = topk_indices[0]  # shape: (300,)\n",
    "# topk_values  = topk_values[0]   # shape: (300,)\n",
    "# indices_idx = torch.arange( 0, 300 )  # shape: (300,)\n",
    "\n",
    "# level0_end = shapes[0][0] * shapes[0][1]\n",
    "# level1_end = level0_end + shapes[1][0] * shapes[1][1]\n",
    "# level2_end = level1_end + shapes[2][0] * shapes[2][1]  # Should equal hw_total\n",
    "\n",
    "# # Isolate tokens for level 0: indices in [0, level0_end)\n",
    "# mask0 = ( topk_indices < level0_end )\n",
    "# top_indices_feat_0 = topk_indices[mask0]\n",
    "# top_values_feat_0  = topk_values[mask0]\n",
    "# indices_idx_feat_0 = indices_idx[mask0]\n",
    "\n",
    "# # Isolate tokens for level 1: indices in [level0_end, level1_end)\n",
    "# mask1 = ( topk_indices >= level0_end ) & ( topk_indices < level1_end )\n",
    "# top_indices_feat_1 = topk_indices[mask1] - level0_end\n",
    "# top_values_feat_1  = topk_values[mask1]\n",
    "# indices_idx_feat_1 = indices_idx[mask1]\n",
    "\n",
    "# # Isolate tokens for level 2: indices in [level1_end, level2_end)\n",
    "# mask2 = ( topk_indices >= level1_end ) & ( topk_indices < level2_end )\n",
    "# top_indices_feat_2 = topk_indices[mask2] - level1_end  # local index if desired\n",
    "# top_values_feat_2  = topk_values[mask2]\n",
    "# indices_idx_feat_2 = indices_idx[mask2]\n",
    "\n",
    "# all_top_indices = [ top_indices_feat_0, top_indices_feat_1, top_indices_feat_2 ]\n",
    "# all_top_values = [ top_values_feat_0, top_values_feat_1, top_values_feat_2 ]\n",
    "# all_top_indices_idx = [ indices_idx_feat_0, indices_idx_feat_1, indices_idx_feat_2 ]\n",
    "\n",
    "# # Get original image dimensions\n",
    "# original_h, original_w = image.shape[0:2]\n",
    "\n",
    "# # Create a heatmap matrix for the original image\n",
    "# heatmap_overlay = np.zeros((original_h, original_w), dtype=np.float32)\n",
    "\n",
    "# # Define different colors for each scale (used for filled circles; edge will be green)\n",
    "# colors = [(255, 0, 0), (0, 255, 0), (0, 0, 255)]\n",
    "\n",
    "# # Create a figure to visualize each scale separately\n",
    "# plt.figure(figsize=(20, len(shapes)*10))\n",
    "# for i, ( (h, w), indices, values, dxs ) in enumerate( zip( shapes, all_top_indices, all_top_values, all_top_indices_idx ) ):\n",
    "    \n",
    "#     # Scale factors to map feature map coordinates to original image\n",
    "#     scale_y, scale_x = original_h / h, original_w / w\n",
    "    \n",
    "#     # Radius of the circle to draw (proportional to scale)\n",
    "#     circle_radius = max( 1, int( min( scale_y, scale_x ) // 2 ) )\n",
    "    \n",
    "#     # Create a scale-specific heatmap\n",
    "#     scale_heatmap = np.zeros( ( original_h, original_w ), dtype = np.float32 )\n",
    "    \n",
    "#     # Create a list to store coordinates for proposals that are in the detectors_ list.\n",
    "#     detector_coords = []\n",
    "    \n",
    "#     # For each top-k index, map to original image and accumulate score\n",
    "#     for j, (idx, val, dx) in enumerate( zip( indices, values, dxs ) ):\n",
    "\n",
    "#         # Convert feature map index to 2D position\n",
    "#         idx = idx.item()\n",
    "#         feat_y, feat_x = idx // w, idx % w\n",
    "        \n",
    "#         # Map to original image coordinates (center of the feature cell)\n",
    "#         orig_y = int( ( feat_y + 0.5 ) * scale_y )\n",
    "#         orig_x = int( ( feat_x + 0.5 ) * scale_x )\n",
    "        \n",
    "#         # Ensure within bounds\n",
    "#         orig_y = min( max( 0, orig_y ), original_h-1 )\n",
    "#         orig_x = min( max( 0, orig_x ), original_w-1 )\n",
    "        \n",
    "#         # Get score value\n",
    "#         score_val = val.item()\n",
    "        \n",
    "#         # Draw filled circle on both heatmaps\n",
    "#         cv2.circle( heatmap_overlay, ( orig_x, orig_y ), circle_radius, score_val, -1 )\n",
    "#         cv2.circle( scale_heatmap, ( orig_x, orig_y ), circle_radius, score_val, -1 )\n",
    "    \n",
    "#     # Normalize the scale-specific heatmap\n",
    "#     if scale_heatmap.max() > 0:\n",
    "#         scale_heatmap = scale_heatmap / scale_heatmap.max()\n",
    "    \n",
    "#     # Display the scale-specific heatmap\n",
    "#     plt.subplot( len( shapes ), 1, i + 1 )\n",
    "#     plt.imshow( image )\n",
    "#     plt.imshow( scale_heatmap, cmap = 'hot', alpha = 0.5 )\n",
    "\n",
    "        \n",
    "#     plt.title(f'Scale {i+1} ({h}x{w}) - Top-300 Proposals')\n",
    "#     plt.axis('off')\n",
    "\n",
    "# plt.tight_layout()\n",
    "# plt.show()\n",
    "\n",
    "# # Normalize the combined heatmap\n",
    "# if heatmap_overlay.max() > 0:\n",
    "#     heatmap_overlay = heatmap_overlay / heatmap_overlay.max()\n",
    "\n",
    "# # Apply colormap to heatmap\n",
    "# heatmap_color = cv2.applyColorMap( ( heatmap_overlay * 255 ).astype( np.uint8 ), cv2.COLORMAP_JET )\n",
    "# heatmap_color = cv2.cvtColor( heatmap_color, cv2.COLOR_BGR2RGB )\n",
    "\n",
    "# # Convert image to RGB copy for blending\n",
    "# image_rgb = image.copy()\n",
    "\n",
    "# # Create blended overlay\n",
    "# alpha = 0.5\n",
    "# blended = cv2.addWeighted( image_rgb, 1-alpha, heatmap_color, alpha, 0 )\n",
    "\n",
    "# # Show the final visualization\n",
    "# plt.figure( figsize = ( 20, 20 ) )\n",
    "# plt.imshow( blended )\n",
    "# plt.title( \"Object Proposals Heatmap Overlay\" )\n",
    "# plt.axis( 'off' )\n",
    "# plt.tight_layout()\n",
    "# plt.show()"
   ]
  },
  {
   "cell_type": "code",
   "execution_count": null,
   "metadata": {},
   "outputs": [],
   "source": [
    "print(\"AIFI(\\n  (ma): MultiheadAttention(\\n    (out_proj): NonDynamicallyQuantizableLinear(in_features=384, out_features=384, bias=True)\\n  )\\n  (fc1): Linear(in_features=384, out_features=2048, bias=True)\\n  (fc2): Linear(in_features=2048, out_features=384, bias=True)\\n  (norm1): LayerNorm((384,), eps=1e-05, elementwise_affine=True)\\n  (norm2): LayerNorm((384,), eps=1e-05, elementwise_affine=True)\\n  (dropout): Dropout(p=0, inplace=True)\\n  (dropout1): Dropout(p=0, inplace=True)\\n  (dropout2): Dropout(p=0, inplace=True)\\n  (act): GELU(approximate='none')\\n)\")"
   ]
  }
 ],
 "metadata": {
  "kernelspec": {
   "display_name": "torch_gpu2",
   "language": "python",
   "name": "python3"
  },
  "language_info": {
   "codemirror_mode": {
    "name": "ipython",
    "version": 3
   },
   "file_extension": ".py",
   "mimetype": "text/x-python",
   "name": "python",
   "nbconvert_exporter": "python",
   "pygments_lexer": "ipython3",
   "version": "3.10.16"
  }
 },
 "nbformat": 4,
 "nbformat_minor": 2
}
