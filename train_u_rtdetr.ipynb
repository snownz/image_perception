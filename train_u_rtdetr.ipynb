{
 "cells": [
  {
   "cell_type": "code",
   "execution_count": 1,
   "metadata": {},
   "outputs": [
    {
     "name": "stdout",
     "output_type": "stream",
     "text": [
      "JSONDict(\"/home/lucas/.config/Ultralytics/settings.json\"):\n",
      "{\n",
      "  \"settings_version\": \"0.0.6\",\n",
      "  \"datasets_dir\": \"/home/lucas/capstone/dataset_detection\",\n",
      "  \"weights_dir\": \"weights\",\n",
      "  \"runs_dir\": \"runs\",\n",
      "  \"uuid\": \"646906117929847a97c427b7cd47692d883d69e32d8292a4b142839e32aa7113\",\n",
      "  \"sync\": true,\n",
      "  \"api_key\": \"\",\n",
      "  \"openai_api_key\": \"\",\n",
      "  \"clearml\": true,\n",
      "  \"comet\": true,\n",
      "  \"dvc\": true,\n",
      "  \"hub\": true,\n",
      "  \"mlflow\": true,\n",
      "  \"neptune\": true,\n",
      "  \"raytune\": true,\n",
      "  \"tensorboard\": true,\n",
      "  \"wandb\": false,\n",
      "  \"vscode_msg\": true\n",
      "}\n"
     ]
    }
   ],
   "source": [
    "import torch\n",
    "from torchvision.utils import make_grid\n",
    "import torch.nn.functional as F\n",
    "import matplotlib.pyplot as plt\n",
    "\n",
    "from ultralytics import RTDETR\n",
    "from ultralytics.utils import SETTINGS\n",
    "import torch\n",
    "\n",
    "import numpy as np\n",
    "np.set_printoptions(suppress=True)\n",
    "\n",
    "print(SETTINGS)"
   ]
  },
  {
   "cell_type": "code",
   "execution_count": 2,
   "metadata": {},
   "outputs": [],
   "source": [
    "def resize_image(image_tensor, size):\n",
    "    return F.interpolate( image_tensor.unsqueeze(0), size = ( size, size ),\n",
    "                          mode = 'bilinear', align_corners = False ).squeeze(0)\n",
    "\n",
    "def pad_image(image_tensor, target_size=64):\n",
    "    \"\"\"\n",
    "    Pads the input image tensor with a black border so that the final image\n",
    "    has dimensions (target_size, target_size). The image is centered.\n",
    "    \n",
    "    Assumes image_tensor is of shape [C, H, W].\n",
    "    \n",
    "    Parameters:\n",
    "    - image_tensor: torch.Tensor of shape [C, H, W]\n",
    "    - target_size: Desired output size (both height and width)\n",
    "    \n",
    "    Returns:\n",
    "    - padded_image: torch.Tensor of shape [C, target_size, target_size]\n",
    "    \"\"\"\n",
    "    # Get original image dimensions\n",
    "    _, H, W = image_tensor.shape\n",
    "    \n",
    "    # Compute the padding sizes for height and width\n",
    "    pad_height = target_size - H\n",
    "    pad_width = target_size - W\n",
    "    \n",
    "    # Ensure that the image is smaller than the target size\n",
    "    if pad_height < 0 or pad_width < 0:\n",
    "        raise ValueError(\"The image dimensions are larger than the target size.\")\n",
    "    \n",
    "    # Calculate padding for each side (left, right, top, bottom)\n",
    "    pad_left = pad_width // 2\n",
    "    pad_right = pad_width - pad_left\n",
    "    pad_top = pad_height // 2\n",
    "    pad_bottom = pad_height - pad_top\n",
    "    \n",
    "    # F.pad expects the padding tuple in the order: (pad_left, pad_right, pad_top, pad_bottom)\n",
    "    padded_image = F.pad(image_tensor, (pad_left, pad_right, pad_top, pad_bottom), mode='constant', value=0)\n",
    "    return padded_image"
   ]
  },
  {
   "cell_type": "code",
   "execution_count": 3,
   "metadata": {},
   "outputs": [],
   "source": [
    "# model = RTDETR('yolo/rtdetr-x.pt' )\n",
    "model = RTDETR('yolo/runs/train/rtdetr_custom_4/weights/best.pt' )"
   ]
  },
  {
   "cell_type": "code",
   "execution_count": 4,
   "metadata": {},
   "outputs": [],
   "source": [
    "# feature_maps = None\n",
    "# def hook_fn(module, input, output):\n",
    "#     global feature_maps\n",
    "#     # feature_maps = input[0]\n",
    "#     feature_maps = output.detach().cpu()"
   ]
  },
  {
   "cell_type": "code",
   "execution_count": 5,
   "metadata": {},
   "outputs": [],
   "source": [
    "# model.model.model[1].register_forward_hook(hook_fn)\n",
    "# r = model( 'front_1706545937.png' )\n",
    "# layer_index = 0\n",
    "# t_ = feature_maps[0].cpu().permute( 1, 2, 0 )\n",
    "# plt.figure( figsize = ( 8, 8 ) )\n",
    "# plt.imshow( t_[:,:,layer_index], cmap = 'magma' )\n",
    "# plt.show()\n",
    "# t_.min(), t_.max()"
   ]
  },
  {
   "cell_type": "code",
   "execution_count": 6,
   "metadata": {},
   "outputs": [],
   "source": [
    "torch.save( model.state_dict, 'models/pre_trained/rtdetr-c.pth' )"
   ]
  },
  {
   "cell_type": "code",
   "execution_count": null,
   "metadata": {},
   "outputs": [],
   "source": [
    "# model( 'dataset_detection/images/train/front_1706545937.png' )"
   ]
  },
  {
   "cell_type": "code",
   "execution_count": null,
   "metadata": {},
   "outputs": [],
   "source": [
    "# model.forward( torch.zeros((1, 3, 640, 640)) )  # dry run"
   ]
  },
  {
   "cell_type": "code",
   "execution_count": null,
   "metadata": {},
   "outputs": [],
   "source": [
    "model.train(\n",
    "    data = 'dataset_detection/data.yaml',  # Path to your dataset configuration file\n",
    "    # data = 'dataset_detection/data.yaml',  # Path to your dataset configuration file\n",
    "    epochs = 20,\n",
    "    imgsz = 640,\n",
    "    batch = 16,\n",
    "    project = 'yolo/runs/train',\n",
    "    name = 'rtdetr_custom_4',\n",
    "    exist_ok = True,\n",
    "    copy_paste = 0.5,\n",
    "    degrees = 10.0,       # Random rotation degrees\n",
    "    translate = 0.1,      # Random translation fraction\n",
    "    scale = 0.5,          # Random scale factor\n",
    "    # shear = 2.0,          # Random shear degrees\n",
    "    flipud = 0.5,         # Horizontal flip probability\n",
    "    fliplr = 0.5,         # Vertical flip probability\n",
    "    hsv_h = 0.015,        # HSV hue augmentation\n",
    "    hsv_s = 0.7,          # HSV saturation augmentation\n",
    "    hsv_v = 0.4,          # HSV value augmentation\n",
    "    mosaic = 0.2,         # Mosaic augmentation probability\n",
    "    mixup = 0.2           # MixUp augmentation probability\n",
    ")"
   ]
  }
 ],
 "metadata": {
  "kernelspec": {
   "display_name": "torch_gpu2",
   "language": "python",
   "name": "python3"
  },
  "language_info": {
   "codemirror_mode": {
    "name": "ipython",
    "version": 3
   },
   "file_extension": ".py",
   "mimetype": "text/x-python",
   "name": "python",
   "nbconvert_exporter": "python",
   "pygments_lexer": "ipython3",
   "version": "3.10.16"
  }
 },
 "nbformat": 4,
 "nbformat_minor": 2
}
