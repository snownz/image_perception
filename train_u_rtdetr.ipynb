{
 "cells": [
  {
   "cell_type": "code",
   "execution_count": 1,
   "metadata": {},
   "outputs": [
    {
     "name": "stdout",
     "output_type": "stream",
     "text": [
      "JSONDict(\"/home/lucas/.config/Ultralytics/settings.json\"):\n",
      "{\n",
      "  \"settings_version\": \"0.0.6\",\n",
      "  \"datasets_dir\": \"/home/lucas/capstone/dataset_detection\",\n",
      "  \"weights_dir\": \"weights\",\n",
      "  \"runs_dir\": \"runs\",\n",
      "  \"uuid\": \"646906117929847a97c427b7cd47692d883d69e32d8292a4b142839e32aa7113\",\n",
      "  \"sync\": true,\n",
      "  \"api_key\": \"\",\n",
      "  \"openai_api_key\": \"\",\n",
      "  \"clearml\": true,\n",
      "  \"comet\": true,\n",
      "  \"dvc\": true,\n",
      "  \"hub\": true,\n",
      "  \"mlflow\": true,\n",
      "  \"neptune\": true,\n",
      "  \"raytune\": true,\n",
      "  \"tensorboard\": true,\n",
      "  \"wandb\": false,\n",
      "  \"vscode_msg\": true\n",
      "}\n"
     ]
    }
   ],
   "source": [
    "import torch\n",
    "from torchvision.utils import make_grid\n",
    "import torch.nn.functional as F\n",
    "import matplotlib.pyplot as plt\n",
    "\n",
    "from ultralytics import RTDETR\n",
    "from ultralytics.utils import SETTINGS\n",
    "import torch\n",
    "\n",
    "import numpy as np\n",
    "np.set_printoptions(suppress=True)\n",
    "\n",
    "print(SETTINGS)"
   ]
  },
  {
   "cell_type": "code",
   "execution_count": 3,
   "metadata": {},
   "outputs": [],
   "source": [
    "# model = RTDETR('yolo/rtdetr-x.pt' )\n",
    "model = RTDETR('yolo/runs/train/rtdetr_custom_4/weights/best.pt' )"
   ]
  },
  {
   "cell_type": "code",
   "execution_count": null,
   "metadata": {},
   "outputs": [],
   "source": [
    "model.train(\n",
    "    data = 'dataset_detection/data.yaml',  # Path to your dataset configuration file\n",
    "    # data = 'dataset_detection/data.yaml',  # Path to your dataset configuration file\n",
    "    epochs = 20,\n",
    "    imgsz = 640,\n",
    "    batch = 16,\n",
    "    project = 'yolo/runs/train',\n",
    "    name = 'rtdetr_custom_4',\n",
    "    exist_ok = True,\n",
    "    copy_paste = 0.5,\n",
    "    degrees = 10.0,       # Random rotation degrees\n",
    "    translate = 0.1,      # Random translation fraction\n",
    "    scale = 0.5,          # Random scale factor\n",
    "    # shear = 2.0,          # Random shear degrees\n",
    "    flipud = 0.5,         # Horizontal flip probability\n",
    "    fliplr = 0.5,         # Vertical flip probability\n",
    "    hsv_h = 0.015,        # HSV hue augmentation\n",
    "    hsv_s = 0.7,          # HSV saturation augmentation\n",
    "    hsv_v = 0.4,          # HSV value augmentation\n",
    "    mosaic = 0.2,         # Mosaic augmentation probability\n",
    "    mixup = 0.2           # MixUp augmentation probability\n",
    ")"
   ]
  },
  {
   "cell_type": "code",
   "execution_count": null,
   "metadata": {},
   "outputs": [],
   "source": [
    "torch.save( model.state_dict, 'models/pre_trained/rtdetr-c.pth' )"
   ]
  }
 ],
 "metadata": {
  "kernelspec": {
   "display_name": "torch_gpu2",
   "language": "python",
   "name": "python3"
  },
  "language_info": {
   "codemirror_mode": {
    "name": "ipython",
    "version": 3
   },
   "file_extension": ".py",
   "mimetype": "text/x-python",
   "name": "python",
   "nbconvert_exporter": "python",
   "pygments_lexer": "ipython3",
   "version": "3.10.16"
  }
 },
 "nbformat": 4,
 "nbformat_minor": 2
}
